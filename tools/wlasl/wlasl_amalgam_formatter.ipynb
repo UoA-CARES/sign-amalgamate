{
 "cells": [
  {
   "cell_type": "markdown",
   "id": "77dc6f7c",
   "metadata": {},
   "source": [
    "## Imports"
   ]
  },
  {
   "cell_type": "code",
   "execution_count": 1,
   "id": "d9355d45",
   "metadata": {},
   "outputs": [],
   "source": [
    "import os\n",
    "import csv\n",
    "import json"
   ]
  },
  {
   "cell_type": "code",
   "execution_count": 2,
   "id": "c78e97dd",
   "metadata": {},
   "outputs": [],
   "source": [
    "os.chdir('../../data/dummy_autsl/')"
   ]
  },
  {
   "cell_type": "markdown",
   "id": "35cc1bb0",
   "metadata": {},
   "source": [
    "## Getting the class meanings"
   ]
  },
  {
   "cell_type": "code",
   "execution_count": 12,
   "id": "fde99d33",
   "metadata": {},
   "outputs": [],
   "source": [
    "classes = dict()\n",
    "with open('SignList_ClassId_TR_EN.csv') as f:\n",
    "    for i, row in enumerate(f):\n",
    "        if i==0:\n",
    "            continue\n",
    "            \n",
    "        classes[row.split(',')[0]] = row.split()[0].split(',')[2]"
   ]
  },
  {
   "cell_type": "code",
   "execution_count": 13,
   "id": "83cad5c5",
   "metadata": {},
   "outputs": [
    {
     "data": {
      "text/plain": [
       "{'0': 'sister',\n",
       " '1': 'hurry',\n",
       " '2': 'hungry',\n",
       " '3': 'enjoy_your_meal',\n",
       " '4': 'brother',\n",
       " '5': 'tree',\n",
       " '6': 'heavy',\n",
       " '7': 'cry',\n",
       " '8': 'family',\n",
       " '9': 'wise',\n",
       " '10': 'unwise',\n",
       " '11': 'kin',\n",
       " '12': 'shopping',\n",
       " '13': 'key',\n",
       " '14': 'mother',\n",
       " '15': 'friend',\n",
       " '16': 'ataturk',\n",
       " '17': 'shoe',\n",
       " '18': 'mirror',\n",
       " '19': 'same',\n",
       " '20': 'father',\n",
       " '21': 'garden',\n",
       " '22': 'look',\n",
       " '23': 'honey',\n",
       " '24': 'glass',\n",
       " '25': 'flag',\n",
       " '26': 'feast',\n",
       " '27': 'baby',\n",
       " '28': 'single',\n",
       " '29': 'wait',\n",
       " '30': 'I',\n",
       " '31': 'petrol',\n",
       " '32': 'together',\n",
       " '33': 'inform',\n",
       " '34': 'we',\n",
       " '35': 'work',\n",
       " '36': 'wednesday',\n",
       " '37': 'fork',\n",
       " '38': 'tea',\n",
       " '39': 'teapot',\n",
       " '40': 'hammer',\n",
       " '41': 'ugly',\n",
       " '42': 'child',\n",
       " '43': 'soup',\n",
       " '44': 'friday',\n",
       " '45': 'saturday',\n",
       " '46': 'wallet',\n",
       " '47': 'minute',\n",
       " '48': 'grandfather',\n",
       " '49': 'change',\n",
       " '50': 'topple',\n",
       " '51': 'government',\n",
       " '52': 'doctor',\n",
       " '53': 'full',\n",
       " '54': 'wedding',\n",
       " '55': 'yesterday',\n",
       " '56': 'enemy',\n",
       " '57': 'wall',\n",
       " '58': 'pharmacy',\n",
       " '59': 'glove',\n",
       " '60': 'labor',\n",
       " '61': 'retired',\n",
       " '62': 'male',\n",
       " '63': 'meal',\n",
       " '64': 'house',\n",
       " '65': 'yes',\n",
       " '66': 'married',\n",
       " '67': 'memorize',\n",
       " '68': 'elephant',\n",
       " '69': 'photograph',\n",
       " '70': 'football',\n",
       " '71': 'past',\n",
       " '72': 'get_well',\n",
       " '73': 'bring',\n",
       " '74': 'lake',\n",
       " '75': 'shirt',\n",
       " '76': 'see',\n",
       " '77': 'show',\n",
       " '78': 'laugh',\n",
       " '79': 'lightweight',\n",
       " '80': 'right',\n",
       " '81': 'carpet',\n",
       " '82': 'ill',\n",
       " '83': 'hospital',\n",
       " '84': 'fault',\n",
       " '85': 'towel',\n",
       " '86': 'no',\n",
       " '87': 'congratulations',\n",
       " '88': 'animal',\n",
       " '89': 'gift',\n",
       " '90': 'halal',\n",
       " '91': 'always',\n",
       " '92': 'never',\n",
       " '93': 'goodbye',\n",
       " '94': 'drink',\n",
       " '95': 'needle',\n",
       " '96': 'medicine',\n",
       " '97': 'not_interested',\n",
       " '98': 'light',\n",
       " '99': 'push',\n",
       " '100': 'good',\n",
       " '101': 'escape',\n",
       " '102': 'breakfast',\n",
       " '103': 'pencil',\n",
       " '104': 'radiator',\n",
       " '105': 'door',\n",
       " '106': 'sibling',\n",
       " '107': 'crossroads',\n",
       " '108': 'accident',\n",
       " '109': 'belt',\n",
       " '110': 'if_only',\n",
       " '111': 'who',\n",
       " '112': 'identity',\n",
       " '113': 'rent',\n",
       " '114': 'book',\n",
       " '115': 'mince',\n",
       " '116': 'female',\n",
       " '117': 'smell',\n",
       " '118': 'cologne',\n",
       " '119': 'coal',\n",
       " '120': 'dog',\n",
       " '121': 'bridge',\n",
       " '122': 'bad',\n",
       " '123': 'lap',\n",
       " '124': 'stain',\n",
       " '125': 'salary',\n",
       " '126': 'scissors',\n",
       " '127': 'tongs',\n",
       " '128': 'god_preserve',\n",
       " '129': 'angel',\n",
       " '130': 'be_pleased',\n",
       " '131': 'napkin',\n",
       " '132': 'stairs',\n",
       " '133': 'guest',\n",
       " '134': 'manager',\n",
       " '135': 'tap',\n",
       " '136': 'how',\n",
       " '137': 'why',\n",
       " '138': 'where',\n",
       " '139': 'grandmother',\n",
       " '140': 'oven',\n",
       " '141': 'room',\n",
       " '142': 'wood',\n",
       " '143': 'teacher',\n",
       " '144': 'school',\n",
       " '145': 'olympiad',\n",
       " '146': 'nope',\n",
       " '147': 'allright',\n",
       " '148': 'they',\n",
       " '149': 'forest',\n",
       " '150': 'fasting',\n",
       " '151': 'apologize',\n",
       " '152': 'cotton',\n",
       " '153': 'trousers',\n",
       " '154': 'money',\n",
       " '155': 'pastrami',\n",
       " '156': 'potato',\n",
       " '157': 'sunday',\n",
       " '158': 'monday',\n",
       " '159': 'window',\n",
       " '160': 'thursday',\n",
       " '161': 'picnic',\n",
       " '162': 'police',\n",
       " '163': 'psychology',\n",
       " '164': 'request',\n",
       " '165': 'hour',\n",
       " '166': 'soap',\n",
       " '167': 'sauce',\n",
       " '168': 'tuesday',\n",
       " '169': 'champion',\n",
       " '170': 'hat',\n",
       " '171': 'war',\n",
       " '172': 'sugar',\n",
       " '173': 'hi',\n",
       " '174': 'umbrella',\n",
       " '175': 'you',\n",
       " '176': 'bill',\n",
       " '177': 'free',\n",
       " '178': 'voice',\n",
       " '179': 'love',\n",
       " '180': 'evil',\n",
       " '181': 'border',\n",
       " '182': 'you',\n",
       " '183': 'say',\n",
       " '184': 'promise',\n",
       " '185': 'milk',\n",
       " '186': 'okay',\n",
       " '187': 'comb',\n",
       " '188': 'date',\n",
       " '189': 'holiday',\n",
       " '190': 'sweet',\n",
       " '191': 'ceiling',\n",
       " '192': 'danger',\n",
       " '193': 'telephone',\n",
       " '194': 'scales',\n",
       " '195': 'tailor',\n",
       " '196': 'thanks',\n",
       " '197': 'screwdriver',\n",
       " '198': 'turkey',\n",
       " '199': 'orange',\n",
       " '200': 'toilet',\n",
       " '201': 'flour',\n",
       " '202': 'far',\n",
       " '203': 'sad',\n",
       " '204': 'existing',\n",
       " '205': 'tax',\n",
       " '206': 'near',\n",
       " '207': 'alone',\n",
       " '208': 'wrong',\n",
       " '209': 'do',\n",
       " '210': 'band-aid',\n",
       " '211': 'help',\n",
       " '212': 'tomorrow',\n",
       " '213': 'forbidden',\n",
       " '214': 'pillow',\n",
       " '215': 'bed',\n",
       " '216': 'slow',\n",
       " '217': 'eat',\n",
       " '218': 'cook',\n",
       " '219': 'star',\n",
       " '220': 'absent',\n",
       " '221': 'road',\n",
       " '222': 'tired',\n",
       " '223': 'egg',\n",
       " '224': 'time',\n",
       " '225': 'difficult'}"
      ]
     },
     "execution_count": 13,
     "metadata": {},
     "output_type": "execute_result"
    }
   ],
   "source": [
    "classes"
   ]
  },
  {
   "cell_type": "markdown",
   "id": "106258cc",
   "metadata": {},
   "source": [
    "## Getting the video files"
   ]
  },
  {
   "cell_type": "code",
   "execution_count": 16,
   "id": "36f163a7",
   "metadata": {},
   "outputs": [],
   "source": [
    "videos = dict()\n",
    "with open('test_labels.csv') as f:\n",
    "    for row in f:\n",
    "        videos[row.split()[0].split(',')[0]] = row.split()[0].split(',')[1]"
   ]
  },
  {
   "cell_type": "code",
   "execution_count": 17,
   "id": "3d685edd",
   "metadata": {},
   "outputs": [
    {
     "data": {
      "text/plain": [
       "{'signer6_sample1': '114', 'signer6_sample2': '161', 'signer6_sample3': '77'}"
      ]
     },
     "execution_count": 17,
     "metadata": {},
     "output_type": "execute_result"
    }
   ],
   "source": [
    "videos"
   ]
  },
  {
   "cell_type": "markdown",
   "id": "eab4967b",
   "metadata": {},
   "source": [
    "## Converting to amalgam format"
   ]
  },
  {
   "cell_type": "code",
   "execution_count": 33,
   "id": "b89fd8c6",
   "metadata": {},
   "outputs": [],
   "source": [
    "amalgam = dict()\n",
    "# The key will be <dataset>_<file_name>"
   ]
  },
  {
   "cell_type": "code",
   "execution_count": 34,
   "id": "cae47790",
   "metadata": {},
   "outputs": [],
   "source": [
    "split = 'test'"
   ]
  },
  {
   "cell_type": "code",
   "execution_count": 47,
   "id": "09f90a71",
   "metadata": {},
   "outputs": [],
   "source": [
    "for video in videos:\n",
    "    location = f'rawframes/{split}/{video}_color'\n",
    "    frames = len([frame for frame in os.listdir(location)\n",
    "                     if os.path.isfile(os.path.join(location, frame))])\n",
    "    amalgam[f'autsl_{video}'] = {'name': video,\n",
    "                                  'class_number': videos[video],\n",
    "                                  'split': split,\n",
    "                                  'gloss': classes[videos[video]],\n",
    "                                  'frames': frames,\n",
    "                                  'location': location.split('rawframes/')[1]\n",
    "                                 }"
   ]
  },
  {
   "cell_type": "code",
   "execution_count": 48,
   "id": "838f9d9c",
   "metadata": {},
   "outputs": [
    {
     "data": {
      "text/plain": [
       "{'autsl_signer6_sample1': {'name': 'signer6_sample1',\n",
       "  'class_number': '114',\n",
       "  'split': 'test',\n",
       "  'gloss': 'book',\n",
       "  'frames': 55,\n",
       "  'location': 'test/signer6_sample1_color'},\n",
       " 'autsl_signer6_sample2': {'name': 'signer6_sample2',\n",
       "  'class_number': '161',\n",
       "  'split': 'test',\n",
       "  'gloss': 'picnic',\n",
       "  'frames': 64,\n",
       "  'location': 'test/signer6_sample2_color'},\n",
       " 'autsl_signer6_sample3': {'name': 'signer6_sample3',\n",
       "  'class_number': '77',\n",
       "  'split': 'test',\n",
       "  'gloss': 'show',\n",
       "  'frames': 61,\n",
       "  'location': 'test/signer6_sample3_color'}}"
      ]
     },
     "execution_count": 48,
     "metadata": {},
     "output_type": "execute_result"
    }
   ],
   "source": [
    "amalgam"
   ]
  },
  {
   "cell_type": "markdown",
   "id": "3e5b05cf",
   "metadata": {},
   "source": [
    "## Exporting to JSON"
   ]
  },
  {
   "cell_type": "code",
   "execution_count": 54,
   "id": "0ce25a6e",
   "metadata": {
    "scrolled": true
   },
   "outputs": [],
   "source": [
    "with open('autsl_amaglgam.JSON', 'w') as fout:\n",
    "    json.dump(amalgam, fout, indent=4)"
   ]
  },
  {
   "cell_type": "markdown",
   "id": "cd17bba5",
   "metadata": {},
   "source": [
    "## Importing from JSON"
   ]
  },
  {
   "cell_type": "code",
   "execution_count": 56,
   "id": "b450c4ab",
   "metadata": {},
   "outputs": [],
   "source": [
    "with open('autsl_amaglgam.JSON', 'r') as fin:\n",
    "    data = json.load(fin)"
   ]
  },
  {
   "cell_type": "code",
   "execution_count": 57,
   "id": "3731475c",
   "metadata": {},
   "outputs": [
    {
     "data": {
      "text/plain": [
       "{'autsl_signer6_sample1': {'name': 'signer6_sample1',\n",
       "  'class_number': '114',\n",
       "  'split': 'test',\n",
       "  'gloss': 'book',\n",
       "  'frames': 55,\n",
       "  'location': 'test/signer6_sample1_color'},\n",
       " 'autsl_signer6_sample2': {'name': 'signer6_sample2',\n",
       "  'class_number': '161',\n",
       "  'split': 'test',\n",
       "  'gloss': 'picnic',\n",
       "  'frames': 64,\n",
       "  'location': 'test/signer6_sample2_color'},\n",
       " 'autsl_signer6_sample3': {'name': 'signer6_sample3',\n",
       "  'class_number': '77',\n",
       "  'split': 'test',\n",
       "  'gloss': 'show',\n",
       "  'frames': 61,\n",
       "  'location': 'test/signer6_sample3_color'}}"
      ]
     },
     "execution_count": 57,
     "metadata": {},
     "output_type": "execute_result"
    }
   ],
   "source": [
    "data"
   ]
  }
 ],
 "metadata": {
  "kernelspec": {
   "display_name": "mmsign",
   "language": "python",
   "name": "mmsign"
  },
  "language_info": {
   "codemirror_mode": {
    "name": "ipython",
    "version": 3
   },
   "file_extension": ".py",
   "mimetype": "text/x-python",
   "name": "python",
   "nbconvert_exporter": "python",
   "pygments_lexer": "ipython3",
   "version": "3.8.17"
  }
 },
 "nbformat": 4,
 "nbformat_minor": 5
}
